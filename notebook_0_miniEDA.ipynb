{
 "cells": [
  {
   "cell_type": "code",
   "execution_count": 1,
   "id": "5ec51d6c",
   "metadata": {},
   "outputs": [],
   "source": [
    "import joblib\n",
    "\n",
    "import numpy as np\n",
    "import pandas as pd\n",
    "\n",
    "import matplotlib.pyplot as plt\n",
    "\n",
    "from sklearn.model_selection import train_test_split\n",
    "\n",
    "from sklearn.compose import ColumnTransformer\n",
    "from sklearn.pipeline import Pipeline\n",
    "\n",
    "from sklearn.feature_extraction.text import TfidfVectorizer\n",
    "from sklearn.preprocessing import OneHotEncoder\n",
    "from sklearn.linear_model import LogisticRegressionCV, LogisticRegression\n",
    "\n",
    "from sklearn.metrics import f1_score, accuracy_score, ConfusionMatrixDisplay\n",
    "\n",
    "from sklearn.multiclass import OneVsRestClassifier\n",
    "\n",
    "from collections import Counter"
   ]
  },
  {
   "cell_type": "code",
   "execution_count": 2,
   "id": "11e78858",
   "metadata": {
    "scrolled": true
   },
   "outputs": [
    {
     "data": {
      "text/plain": [
       "((50876, 10), (50876,), (50651, 10))"
      ]
     },
     "execution_count": 2,
     "metadata": {},
     "output_type": "execute_result"
    }
   ],
   "source": [
    "Xy_train_val = pd.read_csv('data/train.csv', index_col='review_id').fillna('Unknown')\n",
    "X_train_val, y_train_val = Xy_train_val.iloc[:, :-1], Xy_train_val.iloc[:, -1].apply(lambda x: int(x[0]))\n",
    "\n",
    "X_test = pd.read_csv('data/test.csv', index_col='review_id').fillna('Unknown')\n",
    "\n",
    "X_train, X_val, y_train, y_val = train_test_split(X_train_val, y_train_val, test_size=0.2, random_state=42)\n",
    "\n",
    "X_train_val.shape, y_train_val.shape, X_test.shape"
   ]
  },
  {
   "cell_type": "code",
   "execution_count": 3,
   "id": "e00103f7",
   "metadata": {},
   "outputs": [
    {
     "data": {
      "text/plain": [
       "(1, 135.14995282648007, 6000)"
      ]
     },
     "execution_count": 3,
     "metadata": {},
     "output_type": "execute_result"
    }
   ],
   "source": [
    "X_train_val.positive.apply(lambda x: len(x)).min(), X_train_val.positive.apply(lambda x: len(x)).mean(), \\\n",
    "X_train_val.positive.apply(lambda x: len(x)).max()"
   ]
  },
  {
   "cell_type": "code",
   "execution_count": 4,
   "id": "e27f263d",
   "metadata": {
    "scrolled": true
   },
   "outputs": [
    {
     "data": {
      "text/plain": [
       "8          24093\n",
       "0          21003\n",
       "1,8         1476\n",
       "1           1269\n",
       "3            905\n",
       "6,8          473\n",
       "6            368\n",
       "7            326\n",
       "3,8          209\n",
       "1,6          141\n",
       "5,8          121\n",
       "5            102\n",
       "1,5           78\n",
       "1,6,8         48\n",
       "4             38\n",
       "4,8           36\n",
       "1,5,8         33\n",
       "7,8           25\n",
       "1,4           24\n",
       "1,7           15\n",
       "5,7           13\n",
       "2             12\n",
       "1,3            9\n",
       "5,6            9\n",
       "1,5,6          7\n",
       "5,6,8          6\n",
       "4,6            5\n",
       "3,7            5\n",
       "1,4,8          4\n",
       "1,4,6          3\n",
       "6,7            3\n",
       "1,3,8          3\n",
       "1,3,5          2\n",
       "1,7,8          2\n",
       "1,5,6,8        1\n",
       "3,6            1\n",
       "5,7,8          1\n",
       "4,6,8          1\n",
       "1,3,6          1\n",
       "3,6,8          1\n",
       "3,5            1\n",
       "1,2,6          1\n",
       "3,5,8          1\n",
       "3,5,7          1\n",
       "Name: target, dtype: int64"
      ]
     },
     "execution_count": 4,
     "metadata": {},
     "output_type": "execute_result"
    }
   ],
   "source": [
    "Xy_train_val.target.value_counts()"
   ]
  },
  {
   "cell_type": "code",
   "execution_count": 5,
   "id": "0d672c63",
   "metadata": {
    "scrolled": true
   },
   "outputs": [
    {
     "data": {
      "text/plain": [
       "8    24093\n",
       "0    21003\n",
       "1     3117\n",
       "3     1124\n",
       "6      844\n",
       "7      351\n",
       "5      252\n",
       "4       80\n",
       "2       12\n",
       "Name: target, dtype: int64"
      ]
     },
     "execution_count": 5,
     "metadata": {},
     "output_type": "execute_result"
    }
   ],
   "source": [
    "y_train_val.value_counts()"
   ]
  },
  {
   "cell_type": "code",
   "execution_count": 6,
   "id": "19c896dc",
   "metadata": {
    "scrolled": false
   },
   "outputs": [
    {
     "name": "stdout",
     "output_type": "stream",
     "text": [
      "2\n",
      "['- Work/life balance - Возможность работать и удалённо, и в офисе (удалённая работа налажена отлично!) - Руководство - настоящие профессионалы, чуткие, открытые и идущие на встречу - Соц пакет на высшем уровне! ДМС со стоматологией, оплата мобильной связи, ноутбук, онлайн-библиотека, обучения и тренинги, система корпоративных скидок на сервисы крупных компаний практически в любой сфере, изучение АНГЛИЙСКОГО (те, кто в предыдущих отзывах писали, что его здесь нет - мы точно в одной компании работаем?)) он здесь ЕСТЬ! это и разговорные клубы, и скидка на обучение в крупнейшей онлайн платформе, и тренинги, вебинары и т.д.) - Коллектив! Тёплая атмосфера поддержки и вдохновения на всех этапах работы - Насыщенная корпоративная жизнь, праздники и мероприятия - Возможность развиваться профессионально, работать с разнообразными проектами, в том числе и с международными - Полное ощущение стабильности, всегда своевременная, белая ЗП!', 'Стабильность, доверие к компании', 'Работал мерчандайзером почти 1,5 года, недавно уволился,но не из-за организации а потому что переезжаем в другой город. Компания отличная, условия самые наилучшие которые мне только предложили, хорошая зарплата. Переработок вообще ни разу не было, даже на 15 минут не задерживался. Всем советую к ним обращаться, не подведут', 'Возможность работать как на дому, в офисе или за пределами', 'Заинтересовала вакансия этой компании, немного смутили отзывы в Интернете. Поскольку в отзывах не было фактов, решила все-таки сходить на собеседование. Офис понравился, собеседование провели профессионально, вопросы этичные. Пригласили на стажировку. По результатам стажировки могу сказать, что коллектив отзывчивый, сотрудники помогают если столкнулся с какими-то затруднениями, либо непониманием. Руководство общается с подчиненными спокойно, уравновешенно, на дружеской ноте- это я считаю огромны 20']\n",
      "['Есть одноименная группа в вк. Подслушано ******. Там отражены асе негативные моменты', 'Далеко ехать на работу но это по сути уже моя проблема. Во многих районах есть корпоративный транспорт  и это помогает...', 'пока все устраивает, а дальше будет видно, может быть и найдутся какие нибудь недостатки. пока все хорошо. и не видно никаких недостатков. надеюсь и дальше все будет хорошо', 'Проработав 1,5 года не нашел минусов. Все хорошо, хотя перед тем как сюда идти я читал отзывы и многие на что-то жаловались, но ничего такое не было', 'Коммуникацию между сотрудниками']\n",
      "\n"
     ]
    }
   ],
   "source": [
    "for i in [2]: # [1, 4, 6, 7]:# [5] [2 ?] [0, 3, 8]:\n",
    "    print(i)\n",
    "    n = 5\n",
    "    print(Xy_train_val.loc[Xy_train_val.target == str(i), 'positive'].sample(n).tolist())\n",
    "    print(Xy_train_val.loc[Xy_train_val.target == str(i), 'negative'].sample(n).tolist())\n",
    "    print()"
   ]
  },
  {
   "cell_type": "code",
   "execution_count": 7,
   "id": "4b27efcf",
   "metadata": {
    "scrolled": true
   },
   "outputs": [
    {
     "name": "stdout",
     "output_type": "stream",
     "text": [
      "0\n",
      "21003\n",
      "0.73 0.82\n",
      "\n",
      "1\n",
      "1269\n",
      "1.0 1.0\n",
      "\n",
      "2\n",
      "12\n",
      "1.0 1.0\n",
      "\n",
      "3\n",
      "905\n",
      "1.0 1.0\n",
      "\n",
      "4\n",
      "38\n",
      "1.0 1.0\n",
      "\n",
      "5\n",
      "102\n",
      "1.0 1.0\n",
      "\n",
      "6\n",
      "368\n",
      "1.0 1.0\n",
      "\n",
      "7\n",
      "326\n",
      "1.0 1.0\n",
      "\n",
      "8\n",
      "24093\n",
      "1.0 1.0\n",
      "\n"
     ]
    }
   ],
   "source": [
    "# how to predict 0\n",
    "for i in range(9):\n",
    "    pos = Xy_train_val.loc[Xy_train_val.target == str(i), 'positive']\n",
    "    neg = Xy_train_val.loc[Xy_train_val.target == str(i), 'negative']\n",
    "    \n",
    "    print(i)\n",
    "    print(pos.shape[0])\n",
    "    print((pos.str.find('\\xa0') == -1).mean().round(2), (neg.str.find('\\xa0') == -1).mean().round(2))\n",
    "#     print((pos.str.find('\\xa0') == -1).astype(float).min().round(2), \n",
    "#           (neg.str.find('\\xa0') == -1).astype(float).min().round(2))\n",
    "#     print((pos.str.find('\\xa0') == -1).astype(float).max().round(2), \n",
    "#           (neg.str.find('\\xa0') == -1).astype(float).max().round(2))\n",
    "    print()"
   ]
  },
  {
   "cell_type": "code",
   "execution_count": 8,
   "id": "9c9154ee",
   "metadata": {
    "scrolled": true
   },
   "outputs": [
    {
     "name": "stdout",
     "output_type": "stream",
     "text": [
      "0\n",
      "21003\n",
      "1.0 1.0\n",
      "\n",
      "1\n",
      "1269\n",
      "1.0 1.0\n",
      "\n",
      "2\n",
      "12\n",
      "3.0 2.0\n",
      "\n",
      "3\n",
      "905\n",
      "1.0 1.0\n",
      "\n",
      "4\n",
      "38\n",
      "1.0 2.0\n",
      "\n",
      "5\n",
      "102\n",
      "1.0 1.0\n",
      "\n",
      "6\n",
      "368\n",
      "1.0 2.0\n",
      "\n",
      "7\n",
      "326\n",
      "1.0 1.0\n",
      "\n",
      "8\n",
      "24093\n",
      "1.0 1.0\n",
      "\n"
     ]
    }
   ],
   "source": [
    "# how to predict 2 ???\n",
    "for i in range(9):\n",
    "    pos = Xy_train_val.loc[Xy_train_val.target == str(i), 'positive']\n",
    "    neg = Xy_train_val.loc[Xy_train_val.target == str(i), 'negative']\n",
    "    \n",
    "    print(i)\n",
    "    print(pos.shape[0])\n",
    "    print(pos.apply(lambda x: Counter([w for w in x.split(' ')]).most_common(1)[0][1]).median(), \n",
    "          neg.apply(lambda x: Counter([w for w in x.split(' ')]).most_common(1)[0][1]).median())\n",
    "#     print(pos.apply(lambda x: Counter([len(w) for w in x.split(' ')]).most_common(1)[0][1]).min(), \n",
    "#           neg.apply(lambda x: Counter([len(w) for w in x.split(' ')]).most_common(1)[0][1]).min())\n",
    "#     print(pos.apply(lambda x: Counter([len(w) for w in x.split(' ')]).most_common(1)[0][1]).max(), \n",
    "#           neg.apply(lambda x: Counter([len(w) for w in x.split(' ')]).most_common(1)[0][1]).max())\n",
    "    print()"
   ]
  },
  {
   "cell_type": "code",
   "execution_count": 9,
   "id": "d09c7a35",
   "metadata": {
    "scrolled": true
   },
   "outputs": [
    {
     "name": "stdout",
     "output_type": "stream",
     "text": [
      "0\n",
      "21003\n",
      "13.0 11.0\n",
      "\n",
      "1\n",
      "1269\n",
      "12.0 12.0\n",
      "\n",
      "2\n",
      "12\n",
      "12.5 11.5\n",
      "\n",
      "3\n",
      "905\n",
      "21.0 21.0\n",
      "\n",
      "4\n",
      "38\n",
      "13.0 13.0\n",
      "\n",
      "5\n",
      "102\n",
      "12.0 12.0\n",
      "\n",
      "6\n",
      "368\n",
      "12.0 13.0\n",
      "\n",
      "7\n",
      "326\n",
      "12.0 12.0\n",
      "\n",
      "8\n",
      "24093\n",
      "11.0 11.0\n",
      "\n"
     ]
    }
   ],
   "source": [
    "# how to predict 3\n",
    "for i in range(9):\n",
    "    pos = Xy_train_val.loc[Xy_train_val.target == str(i), 'positive']\n",
    "    neg = Xy_train_val.loc[Xy_train_val.target == str(i), 'negative']\n",
    "    \n",
    "    print(i)\n",
    "    print(pos.shape[0])\n",
    "    print(pos.apply(lambda x: np.max([len(w) for w in x.split(' ')])).median(), \n",
    "          neg.apply(lambda x: np.max([len(w) for w in x.split(' ')])).median())\n",
    "#     print(pos.apply(lambda x: np.max([len(w) for w in x.split(' ')])).min(), \n",
    "#           neg.apply(lambda x: np.max([len(w) for w in x.split(' ')])).min())\n",
    "#     print(pos.apply(lambda x: np.max([len(w) for w in x.split(' ')])).max(), \n",
    "#           neg.apply(lambda x: np.max([len(w) for w in x.split(' ')])).max())\n",
    "    print()"
   ]
  },
  {
   "cell_type": "code",
   "execution_count": 10,
   "id": "6924798f",
   "metadata": {
    "scrolled": true
   },
   "outputs": [
    {
     "name": "stdout",
     "output_type": "stream",
     "text": [
      "0\n",
      "21003\n",
      "1.0 1.0\n",
      "\n",
      "1\n",
      "1269\n",
      "1.0 1.0\n",
      "\n",
      "2\n",
      "12\n",
      "1.0 1.0\n",
      "\n",
      "3\n",
      "905\n",
      "0.0 1.0\n",
      "\n",
      "4\n",
      "38\n",
      "1.0 1.0\n",
      "\n",
      "5\n",
      "102\n",
      "2.0 2.0\n",
      "\n",
      "6\n",
      "368\n",
      "1.0 1.0\n",
      "\n",
      "7\n",
      "326\n",
      "1.0 1.0\n",
      "\n",
      "8\n",
      "24093\n",
      "1.0 1.0\n",
      "\n"
     ]
    }
   ],
   "source": [
    "# how to predict 5\n",
    "for i in range(9):\n",
    "    pos = Xy_train_val.loc[Xy_train_val.target == str(i), 'positive']\n",
    "    neg = Xy_train_val.loc[Xy_train_val.target == str(i), 'negative']\n",
    "    \n",
    "    print(i)\n",
    "    print(pos.shape[0])\n",
    "    print(pos.apply(lambda x: np.max([sum(1 for c in s if c.isupper()) for s in x.split('.')])).median(), \n",
    "          neg.apply(lambda x: np.max([sum(1 for c in s if c.isupper()) for s in x.split('.')])).median())\n",
    "#     print(pos.apply(lambda x: np.max([sum(1 for c in s if c.isupper()) for s in x.split('.')])).min(), \n",
    "#           neg.apply(lambda x: np.max([sum(1 for c in s if c.isupper()) for s in x.split('.')])).min())\n",
    "#     print(pos.apply(lambda x: np.max([sum(1 for c in s if c.isupper()) for s in x.split('.')])).max(), \n",
    "#           neg.apply(lambda x: np.max([sum(1 for c in s if c.isupper()) for s in x.split('.')])).max())\n",
    "    print()"
   ]
  },
  {
   "cell_type": "code",
   "execution_count": 11,
   "id": "8e28da73",
   "metadata": {
    "scrolled": true
   },
   "outputs": [
    {
     "name": "stdout",
     "output_type": "stream",
     "text": [
      "0\n",
      "21003\n",
      "245.46436223396657 89.81964481264582\n",
      "191.0 52.0\n",
      "14 1\n",
      "4413 2668\n",
      "\n",
      "1\n",
      "1269\n",
      "115.08431836091411 193.60520094562648\n",
      "66.0 95.0\n",
      "20 20\n",
      "2882 2854\n",
      "\n",
      "2\n",
      "12\n",
      "351.5 113.08333333333333\n",
      "331.0 126.0\n",
      "22 31\n",
      "935 176\n",
      "\n",
      "3\n",
      "905\n",
      "64.7414364640884 61.90276243093923\n",
      "26.0 27.0\n",
      "7 7\n",
      "6000 6000\n",
      "\n",
      "4\n",
      "38\n",
      "130.81578947368422 276.1842105263158\n",
      "82.5 163.5\n",
      "22 28\n",
      "793 2735\n",
      "\n",
      "5\n",
      "102\n",
      "189.34313725490196 241.4607843137255\n",
      "112.0 100.5\n",
      "20 21\n",
      "1002 3706\n",
      "\n",
      "6\n",
      "368\n",
      "129.22554347826087 309.625\n",
      "76.0 194.5\n",
      "20 21\n",
      "1145 3591\n",
      "\n",
      "7\n",
      "326\n",
      "178.0245398773006 167.24846625766872\n",
      "82.5 72.0\n",
      "20 20\n",
      "2369 1561\n",
      "\n",
      "8\n",
      "24093\n",
      "45.4064666085585 61.878553936828126\n",
      "34.0 39.0\n",
      "1 1\n",
      "3551 4461\n",
      "\n"
     ]
    }
   ],
   "source": [
    "# how to predict 8\n",
    "for i in range(9):\n",
    "    pos = Xy_train_val.loc[Xy_train_val.target == str(i), 'positive']\n",
    "    neg = Xy_train_val.loc[Xy_train_val.target == str(i), 'negative']\n",
    "    \n",
    "    print(i)\n",
    "    print(pos.shape[0])\n",
    "    print(pos.apply(lambda x: len(x)).mean(), \n",
    "          neg.apply(lambda x: len(x)).mean())\n",
    "    print(pos.apply(lambda x: len(x)).median(), \n",
    "          neg.apply(lambda x: len(x)).median())\n",
    "    print(pos.apply(lambda x: len(x)).min(), \n",
    "          neg.apply(lambda x: len(x)).min())\n",
    "    print(pos.apply(lambda x: len(x)).max(), \n",
    "          neg.apply(lambda x: len(x)).max())\n",
    "    print()"
   ]
  },
  {
   "cell_type": "code",
   "execution_count": 12,
   "id": "f0ff1e43",
   "metadata": {
    "scrolled": true
   },
   "outputs": [
    {
     "name": "stdout",
     "output_type": "stream",
     "text": [
      "0\n",
      "['Менеджер', 'Менеджер офиса продаж', 'Кредитный инспектор отдела промышленности и энергетики', 'Demand Planning Specialist', 'Инженер', 'Unknown', 'Project Manager', 'Unknown']\n",
      "['Unknown', 'Казань', 'Тюмень', 'Санкт-Петербург', 'Москва', 'Москва', 'Петрозаводск', 'Москва']\n",
      "\n",
      "1\n",
      "['Специалист', 'Помощник машиниста', 'Повар пиццы', 'Продавец-консультант', 'Unknown', 'Старший инженер', 'Кассир билетный на ЖД транспорте', 'Кассир']\n",
      "['Москва', 'Саратов', 'Москва', 'Москва', 'Санкт-Петербург', 'Москва', 'Нижний Новгород', 'Москва']\n",
      "\n",
      "2\n",
      "['Unknown', 'Провизор', 'Специалист по страхованию', 'Unknown', 'Рекрутер', 'Территориальный управляющий', 'Мерчандайзер', 'Консультант-эксперт']\n",
      "['Ростов-на-Дону', 'Москва', 'Unknown', 'Санкт-Петербург', 'Калининград', 'Пермь', 'Москва', 'Unknown']\n",
      "\n",
      "3\n",
      "['Оператор ПК', 'Эксперт клиентского центра', 'Продавец-консультант', 'Техник по наладке и ремонту бурового оборудования 2 категорий', 'Продавец-консультант', 'Помощник руководителя ломбардно-скупочной деятельности', 'Unknown', 'Unknown']\n",
      "['Москва', 'Москва', 'Москва', 'Москва', 'Рязань', 'Ростов-на-Дону', 'Томск', 'Москва']\n",
      "\n",
      "4\n",
      "['Начальник участка', 'Член бригады ресторана', 'Ведущий инженер ПТО', 'Финансовый эксперт', 'Учетчик склада', 'Менеджер по работе с корпоративными клиентами', 'Сетевой инженер', 'Администратор']\n",
      "['Санкт-Петербург', 'Москва', 'Москва', 'Санкт-Петербург', 'Москва', 'Москва', 'Unknown', 'Москва']\n",
      "\n",
      "5\n",
      "['Продавец-кассир', 'Пробоотборщик', 'Юрист (взыскание проблемной дебиторской задолженности, арбитраж, суды, договора, финбезопасность контрагентов, исполнительное производство)', 'Кладовщик', 'Специалист', 'Кассир', 'Продавец-кассир', 'Ассистент вице-президента по стратегии и развитию бизнеса']\n",
      "['Москва', 'Якутск', 'Москва', 'Чита', 'Томск', 'Ростов-на-Дону', 'Тюмень', 'Unknown']\n",
      "\n",
      "6\n",
      "['Аналитик', 'Менеджер по работе с партнерами (временный проект)', 'Спец опп', 'Торговый представитель', 'Продавец, Старший продавец', 'Кладовщик', 'Специалист клиентского сервиса', 'Официант']\n",
      "['Москва', 'Пермь', 'Москва', 'Москва', 'Саратов', 'Москва', 'Санкт-Петербург', 'Москва']\n",
      "\n",
      "7\n",
      "['Специалист по доставке банковских карт', 'Unknown', 'Оператор call-центра', 'Unknown', 'По Вакансия', 'Unknown', 'Водитель-экспедитор', 'Курьер']\n",
      "['Москва', 'Туртас', 'Санкт-Петербург', 'Москва', 'Москва', 'Москва', 'Москва', 'Воскресенск']\n",
      "\n",
      "8\n",
      "['Пекарь-кондитер', 'Член бригады', 'Менеджер по работе с клиентами', 'Токарь-универсал', 'Менеджер по продажам', 'Кредитный специалист', 'Кассир', 'Инспектор автотранспортного отдела']\n",
      "['Москва', 'Москва', 'Усть-Каменогорск', 'Волгоград', 'Москва', 'Калуга', 'Москва', 'Москва']\n",
      "\n"
     ]
    }
   ],
   "source": [
    "for i in range(9):\n",
    "    print(i)\n",
    "    n = 8\n",
    "    print(Xy_train_val.loc[Xy_train_val.target == str(i), 'position'].sample(n).tolist())\n",
    "    print(Xy_train_val.loc[Xy_train_val.target == str(i), 'city'].sample(n).tolist())\n",
    "    print()"
   ]
  },
  {
   "cell_type": "code",
   "execution_count": 13,
   "id": "d27382ae",
   "metadata": {},
   "outputs": [
    {
     "data": {
      "text/plain": [
       "Index(['city', 'position', 'positive', 'negative', 'salary_rating',\n",
       "       'team_rating', 'managment_rating', 'career_rating', 'workplace_rating',\n",
       "       'rest_recovery_rating', 'target'],\n",
       "      dtype='object')"
      ]
     },
     "execution_count": 13,
     "metadata": {},
     "output_type": "execute_result"
    }
   ],
   "source": [
    "Xy_train_val.columns"
   ]
  },
  {
   "cell_type": "code",
   "execution_count": 14,
   "id": "35ef3b82",
   "metadata": {
    "scrolled": true
   },
   "outputs": [
    {
     "name": "stdout",
     "output_type": "stream",
     "text": [
      "           salary  team  managment  career  workplace  rest_recovery\n",
      "review_id                                                           \n",
      "14597           5     5          5       5          5              5\n",
      "4609            5     5          5       5          5              5\n",
      "23991           4     4          3       4          4              4\n",
      "158303          5     5          2       5          5              4\n",
      "61180           5     5          5       5          5              5\n",
      "110011          3     5          4       5          5              5\n",
      "115097          5     4          4       5          4              4\n",
      "78215           5     5          5       5          5              5\n",
      "\n",
      "           salary  team  managment  career  workplace  rest_recovery\n",
      "review_id                                                           \n",
      "122782          2     4          3       1          4              3\n",
      "7386            1     1          1       1          1              1\n",
      "54947           1     4          1       1          1              1\n",
      "183080          1     4          2       3          2              1\n",
      "124696          2     4          1       3          2              1\n",
      "14902           1     3          1       1          5              1\n",
      "76503           1     5          1       3          1              1\n",
      "14286           3     1          1       2          1              1\n",
      "\n",
      "           salary  team  managment  career  workplace  rest_recovery\n",
      "review_id                                                           \n",
      "116538          1     3          1       3          1              3\n",
      "54064           5     5          5       5          5              5\n",
      "38616           5     5          5       5          5              5\n",
      "75473           4     5          5       5          4              1\n",
      "86313           5     5          5       5          5              5\n",
      "50405           5     5          5       5          5              5\n",
      "103983          5     5          5       5          5              5\n",
      "188544          5     5          5       5          5              5\n",
      "\n",
      "           salary  team  managment  career  workplace  rest_recovery\n",
      "review_id                                                           \n",
      "13437           1     2          1       1          2              1\n",
      "132181          5     4          4       5          4              3\n",
      "98291           2     3          3       4          3              1\n",
      "98609           2     4          2       5          5              5\n",
      "70445           1     1          1       1          1              1\n",
      "109087          5     5          4       3          3              5\n",
      "154549          2     4          1       1          2              1\n",
      "102956          1     5          5       5          1              1\n",
      "\n",
      "           salary  team  managment  career  workplace  rest_recovery\n",
      "review_id                                                           \n",
      "97048           4     4          4       5          4              4\n",
      "43473           1     5          2       1          3              1\n",
      "150349          5     1          5       1          3              1\n",
      "183625          3     1          2       1          3              4\n",
      "180508          4     2          3       3          5              4\n",
      "71749           4     5          3       3          3              1\n",
      "177300          1     1          1       3          5              1\n",
      "32658           1     1          1       1          1              1\n",
      "\n",
      "           salary  team  managment  career  workplace  rest_recovery\n",
      "review_id                                                           \n",
      "190117          1     1          1       1          1              1\n",
      "136542          5     5          5       5          4              4\n",
      "52130           2     3          2       2          2              2\n",
      "172558          4     5          5       5          5              4\n",
      "157701          5     5          1       1          5              4\n",
      "60655           2     5          1       3          3              1\n",
      "171048          5     5          5       5          5              5\n",
      "95009           3     4          2       4          4              4\n",
      "\n",
      "           salary  team  managment  career  workplace  rest_recovery\n",
      "review_id                                                           \n",
      "60050           4     5          2       4          3              1\n",
      "191418          4     5          2       4          3              3\n",
      "175755          1     1          1       1          1              1\n",
      "138418          2     5          1       1          4              4\n",
      "49663           2     5          1       1          5              3\n",
      "191399          4     2          2       3          5              4\n",
      "180548          3     5          4       3          3              2\n",
      "144565          2     5          5       3          1              3\n",
      "\n",
      "           salary  team  managment  career  workplace  rest_recovery\n",
      "review_id                                                           \n",
      "191681          1     1          1       1          1              1\n",
      "154131          4     4          4       4          4              4\n",
      "169285          4     5          3       3          4              5\n",
      "82192           1     1          1       1          1              1\n",
      "84727           1     1          1       1          1              1\n",
      "64099           4     5          5       4          4              5\n",
      "33974           4     4          1       1          1              4\n",
      "4163            1     1          1       1          1              1\n",
      "\n",
      "           salary  team  managment  career  workplace  rest_recovery\n",
      "review_id                                                           \n",
      "153535          2     2          3       2          5              3\n",
      "145367          5     5          5       5          5              5\n",
      "127418          2     4          2       1          4              2\n",
      "52545           4     5          5       5          5              3\n",
      "47435           4     2          4       3          4              4\n",
      "76643           3     3          1       1          3              3\n",
      "183437          1     4          4       1          2              1\n",
      "77761           4     4          4       5          5              4\n",
      "\n"
     ]
    }
   ],
   "source": [
    "for i in range(9):\n",
    "#     print(i, col)\n",
    "    n = 8\n",
    "    print(Xy_train_val.loc[Xy_train_val.target == str(i), \n",
    "                           ['salary_rating', 'team_rating', 'managment_rating', 'career_rating', \n",
    "                            'workplace_rating', 'rest_recovery_rating']\n",
    "                          ].rename(columns = {'salary_rating': 'salary', \n",
    "                                              'team_rating': 'team', \n",
    "                                              'managment_rating': 'managment', \n",
    "                                              'career_rating':'career', \n",
    "                                              'workplace_rating': 'workplace', \n",
    "                                              'rest_recovery_rating': 'rest_recovery'}).sample(n))\n",
    "    print()"
   ]
  },
  {
   "cell_type": "code",
   "execution_count": null,
   "id": "73a236a4",
   "metadata": {},
   "outputs": [],
   "source": []
  }
 ],
 "metadata": {
  "kernelspec": {
   "display_name": "Python 3 (ipykernel)",
   "language": "python",
   "name": "python3"
  },
  "language_info": {
   "codemirror_mode": {
    "name": "ipython",
    "version": 3
   },
   "file_extension": ".py",
   "mimetype": "text/x-python",
   "name": "python",
   "nbconvert_exporter": "python",
   "pygments_lexer": "ipython3",
   "version": "3.8.1"
  }
 },
 "nbformat": 4,
 "nbformat_minor": 5
}
