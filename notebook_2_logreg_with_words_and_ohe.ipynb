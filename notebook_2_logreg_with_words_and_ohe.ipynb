{
 "cells": [
  {
   "cell_type": "code",
   "execution_count": 15,
   "id": "5ec51d6c",
   "metadata": {},
   "outputs": [],
   "source": [
    "import numpy as np\n",
    "import pandas as pd\n",
    "\n",
    "from sklearn.model_selection import train_test_split\n",
    "\n",
    "from sklearn.compose import ColumnTransformer\n",
    "from sklearn.pipeline import Pipeline\n",
    "\n",
    "from sklearn.feature_extraction.text import TfidfVectorizer\n",
    "from sklearn.preprocessing import OneHotEncoder\n",
    "from sklearn.linear_model import LogisticRegressionCV\n",
    "\n",
    "from sklearn.metrics import f1_score"
   ]
  },
  {
   "cell_type": "code",
   "execution_count": 16,
   "id": "f4a01c75",
   "metadata": {},
   "outputs": [],
   "source": [
    "stopwords = [\n",
    "    'и', 'в', 'во', 'не', 'что', 'он', 'на', 'я', 'с', 'со', 'как', 'а', 'то', 'все', 'она', 'так', 'его', \n",
    "    'но', 'да', 'ты', 'к', 'у', 'же', 'вы', 'за', 'бы', 'по', 'только', 'ее', 'мне', 'было', 'вот', 'от', \n",
    "    'меня', 'еще', 'нет', 'о', 'из', 'ему', 'теперь', 'когда', 'даже', 'ну', 'вдруг', 'ли', 'если', 'уже', \n",
    "    'или', 'ни', 'быть', 'был', 'него', 'до', 'вас', 'нибудь', 'опять', 'уж', 'вам', 'ведь', 'там', 'потом', \n",
    "    'себя', 'ничего', 'ей', 'может', 'они', 'тут', 'где', 'есть', 'надо', 'ней', 'для', 'мы', 'тебя', 'их', \n",
    "    'чем', 'была', 'сам', 'чтоб', 'без', 'будто', 'чего', 'раз', 'тоже', 'себе', 'под', 'будет', 'ж', 'тогда', \n",
    "    'кто', 'этот', 'того', 'потому', 'этого', 'какой', 'совсем', 'ним', 'здесь', 'этом', 'один', 'почти', 'мой', \n",
    "    'тем', 'чтобы', 'нее', 'сейчас', 'были', 'куда', 'зачем', 'всех', 'никогда', 'можно', 'при', 'наконец', 'два', \n",
    "    'об', 'другой', 'хоть', 'после', 'над', 'больше', 'тот', 'через', 'эти', 'нас', 'про', 'всего', 'них', 'какая',\n",
    "    'много', 'разве', 'три', 'эту', 'моя', 'впрочем', 'хорошо', 'свою', 'этой', 'перед', 'иногда', 'лучше', 'чуть',\n",
    "    'том', 'нельзя', 'такой', 'им', 'более', 'всегда', 'конечно', 'всю', 'между'\n",
    "]"
   ]
  },
  {
   "cell_type": "code",
   "execution_count": 17,
   "id": "11e78858",
   "metadata": {},
   "outputs": [
    {
     "data": {
      "text/plain": [
       "((50876, 10), (50876,), (50651, 10))"
      ]
     },
     "execution_count": 17,
     "metadata": {},
     "output_type": "execute_result"
    }
   ],
   "source": [
    "Xy_train_val = pd.read_csv('data/train.csv', index_col='review_id').fillna('Unknown')\n",
    "X_train_val, y_train_val = Xy_train_val.iloc[:, :-1], Xy_train_val.iloc[:, -1].apply(lambda x: int(x[0]))\n",
    "\n",
    "X_train, X_val, y_train, y_val = train_test_split(X_train_val, y_train_val, test_size=0.2, random_state=42)\n",
    "\n",
    "X_test = pd.read_csv('data/test.csv', index_col='review_id').fillna('Unknown')\n",
    "\n",
    "X_train_val.shape, y_train_val.shape, X_test.shape"
   ]
  },
  {
   "cell_type": "code",
   "execution_count": 4,
   "id": "1d703583",
   "metadata": {
    "scrolled": false
   },
   "outputs": [
    {
     "name": "stdout",
     "output_type": "stream",
     "text": [
      "<class 'pandas.core.frame.DataFrame'>\n",
      "Int64Index: 50876 entries, 0 to 192828\n",
      "Data columns (total 10 columns):\n",
      " #   Column                Non-Null Count  Dtype \n",
      "---  ------                --------------  ----- \n",
      " 0   city                  50876 non-null  object\n",
      " 1   position              50876 non-null  object\n",
      " 2   positive              50876 non-null  object\n",
      " 3   negative              50876 non-null  object\n",
      " 4   salary_rating         50876 non-null  int64 \n",
      " 5   team_rating           50876 non-null  int64 \n",
      " 6   managment_rating      50876 non-null  int64 \n",
      " 7   career_rating         50876 non-null  int64 \n",
      " 8   workplace_rating      50876 non-null  int64 \n",
      " 9   rest_recovery_rating  50876 non-null  int64 \n",
      "dtypes: int64(6), object(4)\n",
      "memory usage: 4.3+ MB\n"
     ]
    }
   ],
   "source": [
    "X_train_val.info()"
   ]
  },
  {
   "cell_type": "code",
   "execution_count": 5,
   "id": "0e3bff3b",
   "metadata": {},
   "outputs": [],
   "source": [
    "city_counts = X_train_val.city.value_counts()\n",
    "X_train_val.loc[X_train_val.city.isin(city_counts[city_counts < 3].index), 'city'] = 'Others'\n",
    "X_test.loc[X_test.city.isin(city_counts[city_counts < 3].index), 'city'] = 'Others'\n",
    "\n",
    "position_counts = X_train_val.position.value_counts()\n",
    "X_train_val.loc[X_train_val.position.isin(position_counts[position_counts < 3].index), 'position'] = 'Others'\n",
    "X_test.loc[X_test.position.isin(position_counts[position_counts < 3].index), 'position'] = 'Others'"
   ]
  },
  {
   "cell_type": "code",
   "execution_count": 6,
   "id": "08de4f39",
   "metadata": {
    "scrolled": false
   },
   "outputs": [],
   "source": [
    "# Xy_train_val.target.str.split(',', expand=True)\n",
    "pipeline = Pipeline([\n",
    "    ('transforms', ColumnTransformer([\n",
    "        ('ohe', OneHotEncoder(handle_unknown='ignore'), [0, 1, 4, 5, 6, 7, 8, 9]),\n",
    "        ('tfidf1', TfidfVectorizer(ngram_range=(1, 3), max_df=0.999, min_df=0.001), 2),\n",
    "        ('tfidf2', TfidfVectorizer(ngram_range=(1, 3), max_df=0.999, min_df=0.001), 3)])),\n",
    "    ('lr', LogisticRegressionCV(Cs=[0.0001, 0.001, 0.01], max_iter=200, n_jobs=-1, random_state=42))\n",
    "])\n",
    "pipeline.fit(X_train_val, y_train_val)"
   ]
  },
  {
   "cell_type": "code",
   "execution_count": 7,
   "id": "2cc8f9ce",
   "metadata": {
    "scrolled": true
   },
   "outputs": [
    {
     "data": {
      "text/plain": [
       "Pipeline(steps=[('transforms',\n",
       "                 ColumnTransformer(transformers=[('ohe',\n",
       "                                                  OneHotEncoder(handle_unknown='ignore'),\n",
       "                                                  [0, 1, 4, 5, 6, 7, 8, 9]),\n",
       "                                                 ('tfidf1',\n",
       "                                                  TfidfVectorizer(max_df=0.999,\n",
       "                                                                  min_df=0.001,\n",
       "                                                                  ngram_range=(1,\n",
       "                                                                               3)),\n",
       "                                                  2),\n",
       "                                                 ('tfidf2',\n",
       "                                                  TfidfVectorizer(max_df=0.999,\n",
       "                                                                  min_df=0.001,\n",
       "                                                                  ngram_range=(1,\n",
       "                                                                               3)),\n",
       "                                                  3)])),\n",
       "                ('lr',\n",
       "                 LogisticRegressionCV(Cs=[0.0001, 0.001, 0.01], max_iter=200,\n",
       "                                      n_jobs=-1, random_state=42))])"
      ]
     },
     "execution_count": 7,
     "metadata": {},
     "output_type": "execute_result"
    }
   ],
   "source": [
    "pipeline = Pipeline([\n",
    "    ('transforms', ColumnTransformer([\n",
    "        ('ohe', OneHotEncoder(handle_unknown='ignore'), [0, 1, 4, 5, 6, 7, 8, 9]),\n",
    "        ('tfidf1', TfidfVectorizer(max_df=0.99, min_df=0.01), 2),\n",
    "        ('tfidf2', TfidfVectorizer(max_df=0.99, min_df=0.01), 3)])),\n",
    "    ('lr', LogisticRegressionCV(Cs=[0.1, 1, 10], max_iter=200, n_jobs=-1, random_state=42))\n",
    "])\n",
    "\n",
    "model_lr = pipeline.fit(X_train_val, y_train_val)"
   ]
  },
  {
   "cell_type": "code",
   "execution_count": 8,
   "id": "65a6d445",
   "metadata": {
    "scrolled": true
   },
   "outputs": [
    {
     "data": {
      "text/plain": [
       "['model_12022022']"
      ]
     },
     "execution_count": 8,
     "metadata": {},
     "output_type": "execute_result"
    }
   ],
   "source": [
    "import joblib\n",
    "joblib.dump(pipeline, 'model_12022022')"
   ]
  },
  {
   "cell_type": "code",
   "execution_count": 9,
   "id": "d1cb39e5",
   "metadata": {},
   "outputs": [],
   "source": [
    "model = joblib.load('model_12022021')\n",
    "\n",
    "pd.DataFrame({\n",
    "    'review_id': X_test.index, \n",
    "    'target': model.predict(X_test).flatten()\n",
    "}).to_csv('answers.csv', index=False)"
   ]
  },
  {
   "cell_type": "code",
   "execution_count": 10,
   "id": "cc1a123e",
   "metadata": {},
   "outputs": [],
   "source": [
    "model = joblib.load('model_11022022 2')"
   ]
  },
  {
   "cell_type": "code",
   "execution_count": 14,
   "id": "b5bc88fc",
   "metadata": {},
   "outputs": [
    {
     "data": {
      "text/plain": [
       "array([1., 1., 1., 1., 1., 1., 1., 1., 1.])"
      ]
     },
     "execution_count": 14,
     "metadata": {},
     "output_type": "execute_result"
    }
   ],
   "source": [
    "model['lr'].C_"
   ]
  },
  {
   "cell_type": "code",
   "execution_count": null,
   "id": "4cbff32e",
   "metadata": {},
   "outputs": [],
   "source": []
  }
 ],
 "metadata": {
  "kernelspec": {
   "display_name": "Python 3 (ipykernel)",
   "language": "python",
   "name": "python3"
  },
  "language_info": {
   "codemirror_mode": {
    "name": "ipython",
    "version": 3
   },
   "file_extension": ".py",
   "mimetype": "text/x-python",
   "name": "python",
   "nbconvert_exporter": "python",
   "pygments_lexer": "ipython3",
   "version": "3.8.1"
  }
 },
 "nbformat": 4,
 "nbformat_minor": 5
}
